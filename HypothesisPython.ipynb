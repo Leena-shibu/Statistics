{
 "cells": [
  {
   "cell_type": "markdown",
   "id": "b2e3e6e1",
   "metadata": {},
   "source": [
    "Example 1:\n",
    "\n",
    "The manager at the steel factory states that all the steel rods are produced with an average length of 26cm. Now an inspector claims that the average steel rod length is not 26cm and he want’s to prove it. The null hypothesis(H₀) for this experiment is that the average length of rod is 26cm. The The alternative hypothesis(H₁) is that the average length of rod is not 26cm."
   ]
  },
  {
   "cell_type": "code",
   "execution_count": null,
   "id": "b8a5144d",
   "metadata": {},
   "outputs": [],
   "source": [
    "H₀: μ = 26cm\n",
    "\n",
    "H₁: μ ≠ 26cm"
   ]
  },
  {
   "cell_type": "markdown",
   "id": "2bd63273",
   "metadata": {},
   "source": [
    "Here the existing theory is that the average length of the rod is 26cm. Hence it goes in the null hypothesis, and the one we are trying to prove is that the average length is not 26cm, so it goes into the alternative hypothesis."
   ]
  },
  {
   "cell_type": "markdown",
   "id": "044036e3",
   "metadata": {},
   "source": [
    "Example 2:\n",
    "\n",
    "The manager at tea company claims that the weight of a tea bag is less than 3.5 g. Food control department wants to test the claim. The null hypothesis(H₀) for this experiment is that the average weight of green tea bag is greater than or equal to 3.5g. The The alternative hypothesis(H₁) is that the average weight of green tea bag is less than 3.5g"
   ]
  },
  {
   "cell_type": "markdown",
   "id": "53dc7e07",
   "metadata": {},
   "source": [
    "H₀: μ ≥ 3.5g\n",
    "\n",
    "H₁: μ < 3.5g"
   ]
  },
  {
   "cell_type": "markdown",
   "id": "45ec6bb2",
   "metadata": {},
   "source": [
    "Here the one we are trying to prove is that the average weight of a green tea bag is less than 3.5g, so it goes into the alternative hypothesis, and the opposite is the null hypothesis.\n",
    "\n",
    "Formulation of the null and the alternative hypothesis is the crucial step, so be careful before you formulate. One trick for the effective formulation is that the equal-to (=) sign comes only in the null hypotheses and alternative hypotheses are opposite of null hypotheses."
   ]
  },
  {
   "cell_type": "markdown",
   "id": "63f624ed",
   "metadata": {},
   "source": [
    "Types of hypotheses tests\n",
    "\n",
    "    Two-tailed tests: Always uses = and ≠ in the hypotheses. Meaning they are directionless. In the steel rod example, the inspector might conclude that the average length is not 26cm but will not know whether it was less than 26cm or more than 26cm.\n",
    "    One-tailed tests: Are always directional. The alternative hypothesis use either greater than (>) or less than (<) sign. In the tea bag example, the researcher will know exactly whether the average weight of a green tea bag is less than or greater than 3.5g"
   ]
  },
  {
   "cell_type": "code",
   "execution_count": null,
   "id": "d9537bcd",
   "metadata": {},
   "outputs": [],
   "source": [
    "https://www.sciencedirect.com/topics/mathematics/tailed-test"
   ]
  },
  {
   "cell_type": "markdown",
   "id": "1dad5f61",
   "metadata": {},
   "source": [
    "Test statistic\n",
    "\n",
    "In hypothesis testing, we either reject the null hypothesis or fail to reject the null hypothesis. To arrive at the result, we will be calculating test statistics, which will be compared with a calculated threshold value(critical and p-value). There are two types of test statistics.\n",
    "\n",
    "    z-statistic: computed when population standard deviation is known"
   ]
  },
  {
   "cell_type": "markdown",
   "id": "3a383148",
   "metadata": {},
   "source": [
    "    x̄- sample mean\n",
    "\n",
    "    μ- population mean\n",
    "\n",
    "    σ- population standard deviation\n",
    "\n",
    "    n- sample size"
   ]
  },
  {
   "cell_type": "markdown",
   "id": "3d6839b5",
   "metadata": {},
   "source": [
    "2. t-statistic: computed when population standard deviation is unknown"
   ]
  },
  {
   "cell_type": "markdown",
   "id": "b1b744eb",
   "metadata": {},
   "source": [
    "    x̄- sample mean\n",
    "\n",
    "    μ- population mean\n",
    "\n",
    "    s- sample standard deviation\n",
    "\n",
    "    n- sample size\n",
    "\n",
    "    df- degree of freedom"
   ]
  },
  {
   "cell_type": "markdown",
   "id": "efc8396c",
   "metadata": {},
   "source": [
    "ritical value method to test hypotheses\n",
    "\n",
    "Remember the threshold value we talked about? This is one of them. It is a point on the distribution that is compared with the test statistic to decide whether to reject the null hypothesis or no. If the absolute value of the test statistic is greater than the critical value, we declare statistical significance and reject the null hypothesis. It is calculated using the significance level(α). Now, what is the significance level? It determines the % risk of the decision taken. We always reject or fail to reject the null hypothesis with some kind of confidence level. For example, we can say that we rejected the null hypothesis with 95% confidence, then the significance level(α) will be 1–0.95 = 0.05. The significance level is decided before we formulate hypotheses. We will be using Python’s SciPy package to calculate the critical value.\n",
    "\n",
    "Let’s take our steel rod example to understand it."
   ]
  },
  {
   "cell_type": "markdown",
   "id": "b3a4eb50",
   "metadata": {},
   "source": [
    "    Problem statement:\n",
    "\n",
    "    A survey of CPAs across the United States found that the average net income for sole proprietor CPAs is $74,914. Because this survey is now more than ten years old, an accounting researcher wants to test this figure by taking a random sample of 112 sole proprietor accountants in the United States to determine whether the net income figure changed with 95% confidence. Assume the population standard deviation of net incomes for sole proprietor CPAs is $14,530[1]."
   ]
  },
  {
   "cell_type": "markdown",
   "id": "c004db0d",
   "metadata": {},
   "source": [
    "HYPOTHESIZE: At step 1, the hypotheses must be established, which we have already done above since the test is trying to prove that the average CPAs is $74,914 that goes into alternative hypotheses.\n",
    "\n",
    "H₀: μ = $74,914\n",
    "\n",
    "H₁: μ ≠ $74,914\n",
    "\n",
    "TEST: Step 2 is to determine the appropriate statistical test. Since we know the population standard deviation, we go with the z-statistic.\n"
   ]
  },
  {
   "cell_type": "markdown",
   "id": "337d4790",
   "metadata": {},
   "source": [
    "Step 3 is to specify the alpha(α) value. Since the confidence interval is given as 95%, we calculate the α as:\n",
    "\n",
    "α = 1- confidence interval\n",
    "\n",
    "= 1–0.95\n",
    "\n",
    "= 0.05\n",
    "\n",
    "Step 4 is to calculate the critical value. Since the problem is two-tailed, the critical values are at the two ends of the distribution, as we have already discussed. Hence we calculate the critical value with α/2."
   ]
  },
  {
   "cell_type": "code",
   "execution_count": null,
   "id": "95e44f4a",
   "metadata": {},
   "outputs": [],
   "source": []
  },
  {
   "cell_type": "code",
   "execution_count": 15,
   "id": "f332ccdb",
   "metadata": {},
   "outputs": [],
   "source": [
    "#importing stats module from scipy package\n",
    "import scipy.stats as st\n",
    "alpha = 0.05\n",
    "\n",
    "#norm specifies normal distribution\n",
    "#isf is inverse survival function\n",
    "z_critical = st.norm.isf(alpha/2)"
   ]
  },
  {
   "cell_type": "code",
   "execution_count": 16,
   "id": "8dd87396",
   "metadata": {},
   "outputs": [],
   "source": [
    "import numpy as np"
   ]
  },
  {
   "cell_type": "code",
   "execution_count": 17,
   "id": "39d58d59",
   "metadata": {},
   "outputs": [
    {
     "data": {
      "text/plain": [
       "1.9599639845400545"
      ]
     },
     "execution_count": 17,
     "metadata": {},
     "output_type": "execute_result"
    }
   ],
   "source": [
    "z_critical"
   ]
  },
  {
   "cell_type": "code",
   "execution_count": 18,
   "id": "945b0398",
   "metadata": {},
   "outputs": [],
   "source": [
    "mu = 74914\n",
    "sigma = 14530\n",
    "n = 112\n",
    "xbar = 78695\n",
    "\n",
    "# standard error\n",
    "se = sigma/np.sqrt(n)\n",
    "\n",
    "# taking absolute value of z-statistic\n",
    "z_stat = abs( (xbar-mu)/se )"
   ]
  },
  {
   "cell_type": "code",
   "execution_count": 19,
   "id": "08e737f3",
   "metadata": {},
   "outputs": [
    {
     "data": {
      "text/plain": [
       "2.753912101069571"
      ]
     },
     "execution_count": 19,
     "metadata": {},
     "output_type": "execute_result"
    }
   ],
   "source": [
    "z_stat"
   ]
  },
  {
   "cell_type": "markdown",
   "id": "6817e4c9",
   "metadata": {},
   "source": [
    "ACTION: Step 7 is to reach a statistical conclusion. Since the z-statistic value is greater than the critical value, we reject the null hypothesis."
   ]
  },
  {
   "cell_type": "markdown",
   "id": "a1c45d52",
   "metadata": {},
   "source": [
    "BUSINESS IMPLICATION: Step 8 is to make business implications. By rejecting the null hypothesis, we conclude with 95% confidence that the average CPAs is not equal to $74,914, and hence, the accounting researcher needs to take appropriate steps."
   ]
  },
  {
   "cell_type": "markdown",
   "id": "803e339d",
   "metadata": {},
   "source": [
    "p-Value method to test hypotheses"
   ]
  },
  {
   "cell_type": "markdown",
   "id": "37ddd02e",
   "metadata": {},
   "source": [
    "The p-value is the probability of obtaining test results at least as extreme as the results actually observed, under the assumption that the null hypothesis is correct. Simply stated, the p-value is the probability of test statistic. If the p-value is less than α, then we reject the null hypothesis. If the p-value is greater than α, we fail to reject the null hypothesis.\n",
    "\n",
    "Taking the same CPAs example, all the steps remain the same except Step 4, where we establish the decision rule. In this method, of course, the decision rule is in the p-value."
   ]
  },
  {
   "cell_type": "code",
   "execution_count": 20,
   "id": "ea3b2ab3",
   "metadata": {},
   "outputs": [
    {
     "data": {
      "text/plain": [
       "0.005888758135200006"
      ]
     },
     "execution_count": 20,
     "metadata": {},
     "output_type": "execute_result"
    }
   ],
   "source": [
    "mu = 74914\n",
    "sigma = 14530\n",
    "n = 112\n",
    "xbar = 78695\n",
    "\n",
    "# standard error\n",
    "se = sigma/np.sqrt(n)\n",
    "\n",
    "# norm specifies normal distribution\n",
    "# sf survival dunction\n",
    "# multiply p-value by 2 since it is two tailed test\n",
    "p_value = st.norm.sf(z_stat)*2\n",
    "p_value"
   ]
  },
  {
   "cell_type": "markdown",
   "id": "ea520e12",
   "metadata": {},
   "source": [
    "Notice, we multiple the p-value by a factor of two since it is a two-tailed test. The obtained p-value is 0.00588, which is less than our α value (0.05). Hence, we reject the null hypothesis concluding that the average CPAs are not equal to $74,914."
   ]
  },
  {
   "cell_type": "markdown",
   "id": "20194d70",
   "metadata": {},
   "source": [
    "One-tailed test: left-tailed"
   ]
  },
  {
   "cell_type": "markdown",
   "id": "fae32590",
   "metadata": {},
   "source": [
    "    Problem statement:\n",
    "\n",
    "    A biologist was interested in determining whether sunflower seedlings treated with an extract from Vinca minor roots resulted in a lower average height of sunflower seedlings than the standard height of 15.7 cm. The biologist treated a random sample of n = 33 seedlings with the extract and subsequently obtained the average height as 13.664 and standard deviation of 2.544. Test the hypothesis with 95% confidence interval[2]."
   ]
  },
  {
   "cell_type": "markdown",
   "id": "85506505",
   "metadata": {},
   "source": [
    "HYPOTHESIZE\n",
    "\n",
    "H₀: μ ≥ 15.7\n",
    "\n",
    "H₁: μ < 15.7\n",
    "\n",
    "How to identify that it is left tailed? After the formulation of hypotheses, if there is a < sign in alternative hypothesis it is left tailed test."
   ]
  },
  {
   "cell_type": "code",
   "execution_count": 9,
   "id": "649fae78",
   "metadata": {},
   "outputs": [],
   "source": [
    "mu = 15.7\n",
    "n = 33\n",
    "xbar = 13.664\n",
    "s = 2.544\n",
    "alpha = 0.05\n",
    "\n",
    "se = s/np.sqrt(n)\n",
    "z_stat = abs( (xbar-mu)/se )"
   ]
  },
  {
   "cell_type": "code",
   "execution_count": 11,
   "id": "d0dfe8c5",
   "metadata": {},
   "outputs": [
    {
     "data": {
      "text/plain": [
       "3.1884575460121404e-05"
      ]
     },
     "execution_count": 11,
     "metadata": {},
     "output_type": "execute_result"
    }
   ],
   "source": [
    "mu = 15.7\n",
    "n = 33\n",
    "xbar = 13.664\n",
    "s = 2.544\n",
    "alpha = 0.05\n",
    "\n",
    "# t specifies t fistribution\n",
    "# df is the degrees of freedom\n",
    "p_value = st.t.sf(z_stat, df=n-1)\n",
    "p_value"
   ]
  },
  {
   "cell_type": "markdown",
   "id": "fe4dc2a2",
   "metadata": {},
   "source": [
    "p_value 3.1884575460121404e-05 is less than α value 0.01; hence, we reject the null hypothesis. To conclude, the height of the sunflower seedlings is less than 15.7."
   ]
  },
  {
   "cell_type": "markdown",
   "id": "dedcf78a",
   "metadata": {},
   "source": [
    "One-tailed test: right-tailed\n",
    "\n",
    "    Problem statement:\n",
    "\n",
    "    An engineer measured the Brinell hardness of 25 pieces of ductile iron that were subcritically annealed and the average hardness came out to be 176.3 with standard deviation 2.06. The engineer hypothesized that the mean Brinell hardness of all such ductile iron pieces is greater than 175. Test the hypothesis with 95% confidence interval[2]."
   ]
  },
  {
   "cell_type": "markdown",
   "id": "b6264b77",
   "metadata": {},
   "source": [
    "HYPOTHESIZE\n",
    "\n",
    "H₀: μ ≤ 175\n",
    "\n",
    "H₁: μ > 175\n",
    "\n",
    "How to identify that it is right-tailed? After the formulation of hypotheses, if there is a > sign in alternative hypotheses, it is a right-tailed test.\n",
    "\n",
    "We do not know the population standard deviation; hence we go with a t-statistic."
   ]
  },
  {
   "cell_type": "code",
   "execution_count": 12,
   "id": "6ca61d34",
   "metadata": {},
   "outputs": [],
   "source": [
    "n = 25\n",
    "mu = 175\n",
    "xbar = 176.3\n",
    "s = 2.06\n",
    "alpha = 0.05\n",
    "\n",
    "se = s/np.sqrt(n)\n",
    "z_stat = abs( (xbar-mu)/se )"
   ]
  },
  {
   "cell_type": "code",
   "execution_count": 14,
   "id": "d95c00d0",
   "metadata": {},
   "outputs": [
    {
     "data": {
      "text/plain": [
       "0.0021391637964501345"
      ]
     },
     "execution_count": 14,
     "metadata": {},
     "output_type": "execute_result"
    }
   ],
   "source": [
    "n = 25\n",
    "mu = 175\n",
    "xbar = 176.3\n",
    "s = 2.06\n",
    "alpha = 0.05\n",
    "\n",
    "se = s/np.sqrt(n)\n",
    "p_value = st.t.sf(z_stat, df=n-1)\n",
    "p_value "
   ]
  },
  {
   "cell_type": "markdown",
   "id": "cb049b1d",
   "metadata": {},
   "source": [
    "p_value 0.00213 is less than α value 0.05; hence, we reject the null hypothesis. To conclude, the average Brinell hardness of all such ductile iron pieces is greater than 175."
   ]
  },
  {
   "cell_type": "code",
   "execution_count": null,
   "id": "e989ba43",
   "metadata": {},
   "outputs": [],
   "source": []
  },
  {
   "cell_type": "code",
   "execution_count": null,
   "id": "99ffe90b",
   "metadata": {},
   "outputs": [],
   "source": []
  },
  {
   "cell_type": "code",
   "execution_count": null,
   "id": "b0722b02",
   "metadata": {},
   "outputs": [],
   "source": []
  },
  {
   "cell_type": "code",
   "execution_count": null,
   "id": "746eec72",
   "metadata": {},
   "outputs": [],
   "source": []
  },
  {
   "cell_type": "code",
   "execution_count": null,
   "id": "b9ad8f86",
   "metadata": {},
   "outputs": [],
   "source": []
  },
  {
   "cell_type": "code",
   "execution_count": null,
   "id": "c5198d47",
   "metadata": {},
   "outputs": [],
   "source": []
  },
  {
   "cell_type": "code",
   "execution_count": null,
   "id": "19b996cf",
   "metadata": {},
   "outputs": [],
   "source": []
  },
  {
   "cell_type": "code",
   "execution_count": null,
   "id": "366b690a",
   "metadata": {},
   "outputs": [],
   "source": []
  }
 ],
 "metadata": {
  "kernelspec": {
   "display_name": "Python 3 (ipykernel)",
   "language": "python",
   "name": "python3"
  },
  "language_info": {
   "codemirror_mode": {
    "name": "ipython",
    "version": 3
   },
   "file_extension": ".py",
   "mimetype": "text/x-python",
   "name": "python",
   "nbconvert_exporter": "python",
   "pygments_lexer": "ipython3",
   "version": "3.9.7"
  }
 },
 "nbformat": 4,
 "nbformat_minor": 5
}
